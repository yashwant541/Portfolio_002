{
 "cells": [
  {
   "cell_type": "code",
   "execution_count": 1,
   "id": "0009cb96-5f79-4ac9-84ba-1a9b008a40be",
   "metadata": {},
   "outputs": [],
   "source": [
    "import pandas as pd"
   ]
  },
  {
   "cell_type": "code",
   "execution_count": 2,
   "id": "feb1bae1-9b10-454e-aeee-0836da957538",
   "metadata": {},
   "outputs": [],
   "source": [
    "AirQuality = pd.read_csv(\"C:/Users/ywardhan/Documents/PORTFOLIO/PORTFOLIO_002/NYC AIR QUALITY DATA/Air_Quality.csv\")"
   ]
  },
  {
   "cell_type": "code",
   "execution_count": 3,
   "id": "6d52770e-d057-4e8d-a668-d1571eac7ef8",
   "metadata": {},
   "outputs": [
    {
     "data": {
      "text/html": [
       "<div>\n",
       "<style scoped>\n",
       "    .dataframe tbody tr th:only-of-type {\n",
       "        vertical-align: middle;\n",
       "    }\n",
       "\n",
       "    .dataframe tbody tr th {\n",
       "        vertical-align: top;\n",
       "    }\n",
       "\n",
       "    .dataframe thead th {\n",
       "        text-align: right;\n",
       "    }\n",
       "</style>\n",
       "<table border=\"1\" class=\"dataframe\">\n",
       "  <thead>\n",
       "    <tr style=\"text-align: right;\">\n",
       "      <th></th>\n",
       "      <th>Unique ID</th>\n",
       "      <th>Indicator ID</th>\n",
       "      <th>Geo Join ID</th>\n",
       "      <th>Data Value</th>\n",
       "      <th>Message</th>\n",
       "    </tr>\n",
       "  </thead>\n",
       "  <tbody>\n",
       "    <tr>\n",
       "      <th>count</th>\n",
       "      <td>16122.000000</td>\n",
       "      <td>16122.000000</td>\n",
       "      <td>1.612200e+04</td>\n",
       "      <td>16122.000000</td>\n",
       "      <td>0.0</td>\n",
       "    </tr>\n",
       "    <tr>\n",
       "      <th>mean</th>\n",
       "      <td>339480.955589</td>\n",
       "      <td>427.131063</td>\n",
       "      <td>6.133394e+05</td>\n",
       "      <td>19.129163</td>\n",
       "      <td>NaN</td>\n",
       "    </tr>\n",
       "    <tr>\n",
       "      <th>std</th>\n",
       "      <td>194099.809551</td>\n",
       "      <td>109.657607</td>\n",
       "      <td>7.916715e+06</td>\n",
       "      <td>21.673789</td>\n",
       "      <td>NaN</td>\n",
       "    </tr>\n",
       "    <tr>\n",
       "      <th>min</th>\n",
       "      <td>130355.000000</td>\n",
       "      <td>365.000000</td>\n",
       "      <td>1.000000e+00</td>\n",
       "      <td>0.000000</td>\n",
       "      <td>NaN</td>\n",
       "    </tr>\n",
       "    <tr>\n",
       "      <th>25%</th>\n",
       "      <td>172183.250000</td>\n",
       "      <td>365.000000</td>\n",
       "      <td>2.020000e+02</td>\n",
       "      <td>8.460000</td>\n",
       "      <td>NaN</td>\n",
       "    </tr>\n",
       "    <tr>\n",
       "      <th>50%</th>\n",
       "      <td>221882.500000</td>\n",
       "      <td>375.000000</td>\n",
       "      <td>3.030000e+02</td>\n",
       "      <td>13.900000</td>\n",
       "      <td>NaN</td>\n",
       "    </tr>\n",
       "    <tr>\n",
       "      <th>75%</th>\n",
       "      <td>547749.750000</td>\n",
       "      <td>386.000000</td>\n",
       "      <td>4.040000e+02</td>\n",
       "      <td>25.470000</td>\n",
       "      <td>NaN</td>\n",
       "    </tr>\n",
       "    <tr>\n",
       "      <th>max</th>\n",
       "      <td>671122.000000</td>\n",
       "      <td>661.000000</td>\n",
       "      <td>1.051061e+08</td>\n",
       "      <td>424.700000</td>\n",
       "      <td>NaN</td>\n",
       "    </tr>\n",
       "  </tbody>\n",
       "</table>\n",
       "</div>"
      ],
      "text/plain": [
       "           Unique ID  Indicator ID   Geo Join ID    Data Value  Message\n",
       "count   16122.000000  16122.000000  1.612200e+04  16122.000000      0.0\n",
       "mean   339480.955589    427.131063  6.133394e+05     19.129163      NaN\n",
       "std    194099.809551    109.657607  7.916715e+06     21.673789      NaN\n",
       "min    130355.000000    365.000000  1.000000e+00      0.000000      NaN\n",
       "25%    172183.250000    365.000000  2.020000e+02      8.460000      NaN\n",
       "50%    221882.500000    375.000000  3.030000e+02     13.900000      NaN\n",
       "75%    547749.750000    386.000000  4.040000e+02     25.470000      NaN\n",
       "max    671122.000000    661.000000  1.051061e+08    424.700000      NaN"
      ]
     },
     "execution_count": 3,
     "metadata": {},
     "output_type": "execute_result"
    }
   ],
   "source": [
    "AirQuality.describe()"
   ]
  },
  {
   "cell_type": "code",
   "execution_count": 4,
   "id": "13f1e316-fe3e-4cd3-93d5-57f4c242b1f7",
   "metadata": {},
   "outputs": [
    {
     "name": "stdout",
     "output_type": "stream",
     "text": [
      "<class 'pandas.core.frame.DataFrame'>\n",
      "RangeIndex: 16122 entries, 0 to 16121\n",
      "Data columns (total 12 columns):\n",
      " #   Column          Non-Null Count  Dtype  \n",
      "---  ------          --------------  -----  \n",
      " 0   Unique ID       16122 non-null  int64  \n",
      " 1   Indicator ID    16122 non-null  int64  \n",
      " 2   Name            16122 non-null  object \n",
      " 3   Measure         16122 non-null  object \n",
      " 4   Measure Info    16122 non-null  object \n",
      " 5   Geo Type Name   16122 non-null  object \n",
      " 6   Geo Join ID     16122 non-null  int64  \n",
      " 7   Geo Place Name  16122 non-null  object \n",
      " 8   Time Period     16122 non-null  object \n",
      " 9   Start_Date      16122 non-null  object \n",
      " 10  Data Value      16122 non-null  float64\n",
      " 11  Message         0 non-null      float64\n",
      "dtypes: float64(2), int64(3), object(7)\n",
      "memory usage: 1.5+ MB\n"
     ]
    }
   ],
   "source": [
    "AirQuality.info()"
   ]
  },
  {
   "cell_type": "code",
   "execution_count": 6,
   "id": "d8c2ec8f-1da4-45fc-abbf-3b0e2e7d6f54",
   "metadata": {},
   "outputs": [
    {
     "data": {
      "text/plain": [
       "Unique ID             0\n",
       "Indicator ID          0\n",
       "Name                  0\n",
       "Measure               0\n",
       "Measure Info          0\n",
       "Geo Type Name         0\n",
       "Geo Join ID           0\n",
       "Geo Place Name        0\n",
       "Time Period           0\n",
       "Start_Date            0\n",
       "Data Value            0\n",
       "Message           16122\n",
       "dtype: int64"
      ]
     },
     "execution_count": 6,
     "metadata": {},
     "output_type": "execute_result"
    }
   ],
   "source": [
    "AirQuality.isna().sum()"
   ]
  },
  {
   "cell_type": "code",
   "execution_count": 7,
   "id": "cc24839f-c895-485f-875b-2f5272531a6a",
   "metadata": {},
   "outputs": [
    {
     "data": {
      "text/html": [
       "<div>\n",
       "<style scoped>\n",
       "    .dataframe tbody tr th:only-of-type {\n",
       "        vertical-align: middle;\n",
       "    }\n",
       "\n",
       "    .dataframe tbody tr th {\n",
       "        vertical-align: top;\n",
       "    }\n",
       "\n",
       "    .dataframe thead th {\n",
       "        text-align: right;\n",
       "    }\n",
       "</style>\n",
       "<table border=\"1\" class=\"dataframe\">\n",
       "  <thead>\n",
       "    <tr style=\"text-align: right;\">\n",
       "      <th></th>\n",
       "      <th>Unique ID</th>\n",
       "      <th>Indicator ID</th>\n",
       "      <th>Name</th>\n",
       "      <th>Measure</th>\n",
       "      <th>Measure Info</th>\n",
       "      <th>Geo Type Name</th>\n",
       "      <th>Geo Join ID</th>\n",
       "      <th>Geo Place Name</th>\n",
       "      <th>Time Period</th>\n",
       "      <th>Start_Date</th>\n",
       "      <th>Data Value</th>\n",
       "      <th>Message</th>\n",
       "    </tr>\n",
       "  </thead>\n",
       "  <tbody>\n",
       "    <tr>\n",
       "      <th>0</th>\n",
       "      <td>130355</td>\n",
       "      <td>639</td>\n",
       "      <td>PM2.5-Attributable Deaths</td>\n",
       "      <td>Estimated Annual Rate - Adults 30 Yrs and Older</td>\n",
       "      <td>per 100,000 adults</td>\n",
       "      <td>UHF42</td>\n",
       "      <td>101</td>\n",
       "      <td>Kingsbridge - Riverdale</td>\n",
       "      <td>2005-2007</td>\n",
       "      <td>01/01/2005</td>\n",
       "      <td>117.7</td>\n",
       "      <td>NaN</td>\n",
       "    </tr>\n",
       "    <tr>\n",
       "      <th>1</th>\n",
       "      <td>130356</td>\n",
       "      <td>639</td>\n",
       "      <td>PM2.5-Attributable Deaths</td>\n",
       "      <td>Estimated Annual Rate - Adults 30 Yrs and Older</td>\n",
       "      <td>per 100,000 adults</td>\n",
       "      <td>UHF42</td>\n",
       "      <td>102</td>\n",
       "      <td>Northeast Bronx</td>\n",
       "      <td>2005-2007</td>\n",
       "      <td>01/01/2005</td>\n",
       "      <td>77.3</td>\n",
       "      <td>NaN</td>\n",
       "    </tr>\n",
       "  </tbody>\n",
       "</table>\n",
       "</div>"
      ],
      "text/plain": [
       "   Unique ID  Indicator ID                       Name  \\\n",
       "0     130355           639  PM2.5-Attributable Deaths   \n",
       "1     130356           639  PM2.5-Attributable Deaths   \n",
       "\n",
       "                                           Measure        Measure Info  \\\n",
       "0  Estimated Annual Rate - Adults 30 Yrs and Older  per 100,000 adults   \n",
       "1  Estimated Annual Rate - Adults 30 Yrs and Older  per 100,000 adults   \n",
       "\n",
       "  Geo Type Name  Geo Join ID           Geo Place Name Time Period  Start_Date  \\\n",
       "0         UHF42          101  Kingsbridge - Riverdale   2005-2007  01/01/2005   \n",
       "1         UHF42          102          Northeast Bronx   2005-2007  01/01/2005   \n",
       "\n",
       "   Data Value  Message  \n",
       "0       117.7      NaN  \n",
       "1        77.3      NaN  "
      ]
     },
     "execution_count": 7,
     "metadata": {},
     "output_type": "execute_result"
    }
   ],
   "source": [
    "AirQuality.head(2)"
   ]
  },
  {
   "cell_type": "code",
   "execution_count": 10,
   "id": "c3c77a76-ad97-4b17-a08c-4b6574aea02d",
   "metadata": {},
   "outputs": [
    {
     "data": {
      "text/plain": [
       "Fine Particulate Matter (PM2.5)                                                 5076\n",
       "Nitrogen Dioxide (NO2)                                                          5076\n",
       "Ozone (O3)                                                                      1692\n",
       "Sulfur Dioxide (SO2)                                                            1128\n",
       "O3-Attributable Asthma Emergency Department Visits                               384\n",
       "PM2.5-Attributable Asthma Emergency Department Visits                            384\n",
       "O3-Attributable Asthma Hospitalizations                                          384\n",
       "Traffic Density- Annual Vehicle Miles Traveled for Cars                          214\n",
       "Traffic Density- Annual Vehicle Miles Traveled for Trucks                        209\n",
       "Traffic Density- Annual Vehicle Miles Traveled                                   209\n",
       "PM2.5-Attributable Deaths                                                        192\n",
       "PM2.5-Attributable Cardiovascular Hospitalizations (Adults 40 Yrs and Older)     192\n",
       "PM2.5-Attributable Respiratory Hospitalizations (Adults 20 Yrs and Older)        192\n",
       "O3-Attributable Cardiac and Respiratory Deaths                                   192\n",
       "Air Toxics Concentrations- Average Formaldehyde Concentrations                   155\n",
       "Air Toxics Concentrations- Average Benzene Concentrations                        155\n",
       "Boiler Emissions- Total SO2 Emissions                                             96\n",
       "Boiler Emissions- Total NOx Emissions                                             96\n",
       "Boiler Emissions- Total PM2.5 Emissions                                           96\n",
       "Name: Name, dtype: int64"
      ]
     },
     "execution_count": 10,
     "metadata": {},
     "output_type": "execute_result"
    }
   ],
   "source": [
    "AirQuality.Name.value_counts()"
   ]
  },
  {
   "cell_type": "code",
   "execution_count": 17,
   "id": "71827332-3d03-47c3-8083-37b5a1e26993",
   "metadata": {},
   "outputs": [
    {
     "data": {
      "text/plain": [
       "Index(['Unique ID', 'Indicator ID', 'Name', 'Measure', 'Measure Info',\n",
       "       'Geo Type Name', 'Geo Join ID', 'Geo Place Name', 'Time Period',\n",
       "       'Start_Date', 'Data Value', 'Message'],\n",
       "      dtype='object')"
      ]
     },
     "execution_count": 17,
     "metadata": {},
     "output_type": "execute_result"
    }
   ],
   "source": [
    "AirQuality.columns"
   ]
  },
  {
   "cell_type": "code",
   "execution_count": 19,
   "id": "58d9f293-2a2d-4da3-88cf-575f4bb0d4eb",
   "metadata": {},
   "outputs": [
    {
     "data": {
      "text/html": [
       "<div>\n",
       "<style scoped>\n",
       "    .dataframe tbody tr th:only-of-type {\n",
       "        vertical-align: middle;\n",
       "    }\n",
       "\n",
       "    .dataframe tbody tr th {\n",
       "        vertical-align: top;\n",
       "    }\n",
       "\n",
       "    .dataframe thead th {\n",
       "        text-align: right;\n",
       "    }\n",
       "</style>\n",
       "<table border=\"1\" class=\"dataframe\">\n",
       "  <thead>\n",
       "    <tr style=\"text-align: right;\">\n",
       "      <th></th>\n",
       "      <th>Data Value</th>\n",
       "    </tr>\n",
       "    <tr>\n",
       "      <th>Name</th>\n",
       "      <th></th>\n",
       "    </tr>\n",
       "  </thead>\n",
       "  <tbody>\n",
       "    <tr>\n",
       "      <th>Air Toxics Concentrations- Average Benzene Concentrations</th>\n",
       "      <td>314.681120</td>\n",
       "    </tr>\n",
       "    <tr>\n",
       "      <th>Air Toxics Concentrations- Average Formaldehyde Concentrations</th>\n",
       "      <td>384.600000</td>\n",
       "    </tr>\n",
       "    <tr>\n",
       "      <th>Boiler Emissions- Total NOx Emissions</th>\n",
       "      <td>5164.000000</td>\n",
       "    </tr>\n",
       "    <tr>\n",
       "      <th>Boiler Emissions- Total PM2.5 Emissions</th>\n",
       "      <td>131.900000</td>\n",
       "    </tr>\n",
       "    <tr>\n",
       "      <th>Boiler Emissions- Total SO2 Emissions</th>\n",
       "      <td>1055.200000</td>\n",
       "    </tr>\n",
       "    <tr>\n",
       "      <th>Fine Particulate Matter (PM2.5)</th>\n",
       "      <td>48303.533800</td>\n",
       "    </tr>\n",
       "    <tr>\n",
       "      <th>Nitrogen Dioxide (NO2)</th>\n",
       "      <td>108002.799200</td>\n",
       "    </tr>\n",
       "    <tr>\n",
       "      <th>O3-Attributable Asthma Emergency Department Visits</th>\n",
       "      <td>28691.800000</td>\n",
       "    </tr>\n",
       "    <tr>\n",
       "      <th>O3-Attributable Asthma Hospitalizations</th>\n",
       "      <td>5037.900000</td>\n",
       "    </tr>\n",
       "    <tr>\n",
       "      <th>O3-Attributable Cardiac and Respiratory Deaths</th>\n",
       "      <td>959.100000</td>\n",
       "    </tr>\n",
       "    <tr>\n",
       "      <th>Ozone (O3)</th>\n",
       "      <td>51381.637700</td>\n",
       "    </tr>\n",
       "    <tr>\n",
       "      <th>PM2.5-Attributable Asthma Emergency Department Visits</th>\n",
       "      <td>27424.509504</td>\n",
       "    </tr>\n",
       "    <tr>\n",
       "      <th>PM2.5-Attributable Cardiovascular Hospitalizations (Adults 40 Yrs and Older)</th>\n",
       "      <td>3562.539550</td>\n",
       "    </tr>\n",
       "    <tr>\n",
       "      <th>PM2.5-Attributable Deaths</th>\n",
       "      <td>9430.373811</td>\n",
       "    </tr>\n",
       "    <tr>\n",
       "      <th>PM2.5-Attributable Respiratory Hospitalizations (Adults 20 Yrs and Older)</th>\n",
       "      <td>2854.135638</td>\n",
       "    </tr>\n",
       "    <tr>\n",
       "      <th>Sulfur Dioxide (SO2)</th>\n",
       "      <td>2950.547800</td>\n",
       "    </tr>\n",
       "    <tr>\n",
       "      <th>Traffic Density- Annual Vehicle Miles Traveled</th>\n",
       "      <td>6334.200000</td>\n",
       "    </tr>\n",
       "    <tr>\n",
       "      <th>Traffic Density- Annual Vehicle Miles Traveled for Cars</th>\n",
       "      <td>6065.900000</td>\n",
       "    </tr>\n",
       "    <tr>\n",
       "      <th>Traffic Density- Annual Vehicle Miles Traveled for Trucks</th>\n",
       "      <td>351.000000</td>\n",
       "    </tr>\n",
       "  </tbody>\n",
       "</table>\n",
       "</div>"
      ],
      "text/plain": [
       "                                                       Data Value\n",
       "Name                                                             \n",
       "Air Toxics Concentrations- Average Benzene Conc...     314.681120\n",
       "Air Toxics Concentrations- Average Formaldehyde...     384.600000\n",
       "Boiler Emissions- Total NOx Emissions                 5164.000000\n",
       "Boiler Emissions- Total PM2.5 Emissions                131.900000\n",
       "Boiler Emissions- Total SO2 Emissions                 1055.200000\n",
       "Fine Particulate Matter (PM2.5)                      48303.533800\n",
       "Nitrogen Dioxide (NO2)                              108002.799200\n",
       "O3-Attributable Asthma Emergency Department Visits   28691.800000\n",
       "O3-Attributable Asthma Hospitalizations               5037.900000\n",
       "O3-Attributable Cardiac and Respiratory Deaths         959.100000\n",
       "Ozone (O3)                                           51381.637700\n",
       "PM2.5-Attributable Asthma Emergency Department ...   27424.509504\n",
       "PM2.5-Attributable Cardiovascular Hospitalizati...    3562.539550\n",
       "PM2.5-Attributable Deaths                             9430.373811\n",
       "PM2.5-Attributable Respiratory Hospitalizations...    2854.135638\n",
       "Sulfur Dioxide (SO2)                                  2950.547800\n",
       "Traffic Density- Annual Vehicle Miles Traveled        6334.200000\n",
       "Traffic Density- Annual Vehicle Miles Traveled ...    6065.900000\n",
       "Traffic Density- Annual Vehicle Miles Traveled ...     351.000000"
      ]
     },
     "execution_count": 19,
     "metadata": {},
     "output_type": "execute_result"
    }
   ],
   "source": [
    "AirQuality[['Name','Data Value']].groupby('Name').sum('Data Values')"
   ]
  },
  {
   "cell_type": "code",
   "execution_count": 20,
   "id": "9ab7e33f-e56a-4ae9-87aa-b40f708500af",
   "metadata": {},
   "outputs": [
    {
     "data": {
      "text/plain": [
       "array([[<AxesSubplot:title={'center':'Unique ID'}>,\n",
       "        <AxesSubplot:title={'center':'Indicator ID'}>],\n",
       "       [<AxesSubplot:title={'center':'Geo Join ID'}>,\n",
       "        <AxesSubplot:title={'center':'Data Value'}>],\n",
       "       [<AxesSubplot:title={'center':'Message'}>, <AxesSubplot:>]],\n",
       "      dtype=object)"
      ]
     },
     "execution_count": 20,
     "metadata": {},
     "output_type": "execute_result"
    },
    {
     "data": {
      "image/png": "[encoded data removed]",
      "text/plain": [
       "<Figure size 1440x720 with 6 Axes>"
      ]
     },
     "metadata": {
      "needs_background": "light"
     },
     "output_type": "display_data"
    }
   ],
   "source": [
    "AirQuality.hist(bins=60, figsize=(20,10))"
   ]
  },
  {
   "cell_type": "code",
   "execution_count": 33,
   "id": "e690753e-6ff9-4d53-a0b4-a1ccb15b52ed",
   "metadata": {},
   "outputs": [
    {
     "data": {
      "text/plain": [
       "<AxesSubplot:>"
      ]
     },
     "execution_count": 33,
     "metadata": {},
     "output_type": "execute_result"
    },
    {
     "data": {
      "image/png": "[encoded data removed]",
      "text/plain": [
       "<Figure size 1440x720 with 1 Axes>"
      ]
     },
     "metadata": {
      "needs_background": "light"
     },
     "output_type": "display_data"
    }
   ],
   "source": [
    "pd.DataFrame(AirQuality['Name'].value_counts()).plot(kind= 'bar', figsize=(20,10))"
   ]
  },
  {
   "cell_type": "code",
   "execution_count": 25,
   "id": "be3ae735-8f4d-4282-ae2a-766e2bb95cfb",
   "metadata": {},
   "outputs": [
    {
     "data": {
      "text/plain": [
       "<AxesSubplot:xlabel='Unique ID', ylabel='Data Value'>"
      ]
     },
     "execution_count": 25,
     "metadata": {},
     "output_type": "execute_result"
    },
    {
     "data": {
      "image/png": "[encoded data removed]",
      "text/plain": [
       "<Figure size 1440x720 with 1 Axes>"
      ]
     },
     "metadata": {
      "needs_background": "light"
     },
     "output_type": "display_data"
    }
   ],
   "source": [
    "AirQuality[['Unique ID', 'Data Value']].plot(kind = \"scatter\", x= 'Unique ID', y = 'Data Value', figsize=(20,10))"
   ]
  },
  {
   "cell_type": "code",
   "execution_count": 28,
   "id": "3ffd22b6-d59c-40ab-a5e1-f7165751cbff",
   "metadata": {},
   "outputs": [
    {
     "data": {
      "text/html": [
       "<div>\n",
       "<style scoped>\n",
       "    .dataframe tbody tr th:only-of-type {\n",
       "        vertical-align: middle;\n",
       "    }\n",
       "\n",
       "    .dataframe tbody tr th {\n",
       "        vertical-align: top;\n",
       "    }\n",
       "\n",
       "    .dataframe thead th {\n",
       "        text-align: right;\n",
       "    }\n",
       "</style>\n",
       "<table border=\"1\" class=\"dataframe\">\n",
       "  <thead>\n",
       "    <tr style=\"text-align: right;\">\n",
       "      <th></th>\n",
       "      <th>Unique ID</th>\n",
       "      <th>Indicator ID</th>\n",
       "      <th>Name</th>\n",
       "      <th>Measure</th>\n",
       "      <th>Measure Info</th>\n",
       "      <th>Geo Type Name</th>\n",
       "      <th>Geo Join ID</th>\n",
       "      <th>Geo Place Name</th>\n",
       "      <th>Time Period</th>\n",
       "      <th>Start_Date</th>\n",
       "      <th>Data Value</th>\n",
       "      <th>Message</th>\n",
       "    </tr>\n",
       "  </thead>\n",
       "  <tbody>\n",
       "    <tr>\n",
       "      <th>293</th>\n",
       "      <td>130792</td>\n",
       "      <td>648</td>\n",
       "      <td>PM2.5-Attributable Asthma Emergency Department...</td>\n",
       "      <td>Estimated Annual Rate- Children 0 to 17 Yrs Old</td>\n",
       "      <td>per 100,000 children</td>\n",
       "      <td>UHF42</td>\n",
       "      <td>106</td>\n",
       "      <td>High Bridge - Morrisania</td>\n",
       "      <td>2005-2007</td>\n",
       "      <td>01/01/2005</td>\n",
       "      <td>308.0</td>\n",
       "      <td>NaN</td>\n",
       "    </tr>\n",
       "    <tr>\n",
       "      <th>307</th>\n",
       "      <td>130806</td>\n",
       "      <td>648</td>\n",
       "      <td>PM2.5-Attributable Asthma Emergency Department...</td>\n",
       "      <td>Estimated Annual Rate- Children 0 to 17 Yrs Old</td>\n",
       "      <td>per 100,000 children</td>\n",
       "      <td>UHF42</td>\n",
       "      <td>302</td>\n",
       "      <td>Central Harlem - Morningside Heights</td>\n",
       "      <td>2005-2007</td>\n",
       "      <td>01/01/2005</td>\n",
       "      <td>424.7</td>\n",
       "      <td>NaN</td>\n",
       "    </tr>\n",
       "    <tr>\n",
       "      <th>308</th>\n",
       "      <td>130807</td>\n",
       "      <td>648</td>\n",
       "      <td>PM2.5-Attributable Asthma Emergency Department...</td>\n",
       "      <td>Estimated Annual Rate- Children 0 to 17 Yrs Old</td>\n",
       "      <td>per 100,000 children</td>\n",
       "      <td>UHF42</td>\n",
       "      <td>303</td>\n",
       "      <td>East Harlem</td>\n",
       "      <td>2005-2007</td>\n",
       "      <td>01/01/2005</td>\n",
       "      <td>354.2</td>\n",
       "      <td>NaN</td>\n",
       "    </tr>\n",
       "  </tbody>\n",
       "</table>\n",
       "</div>"
      ],
      "text/plain": [
       "     Unique ID  Indicator ID  \\\n",
       "293     130792           648   \n",
       "307     130806           648   \n",
       "308     130807           648   \n",
       "\n",
       "                                                  Name  \\\n",
       "293  PM2.5-Attributable Asthma Emergency Department...   \n",
       "307  PM2.5-Attributable Asthma Emergency Department...   \n",
       "308  PM2.5-Attributable Asthma Emergency Department...   \n",
       "\n",
       "                                             Measure          Measure Info  \\\n",
       "293  Estimated Annual Rate- Children 0 to 17 Yrs Old  per 100,000 children   \n",
       "307  Estimated Annual Rate- Children 0 to 17 Yrs Old  per 100,000 children   \n",
       "308  Estimated Annual Rate- Children 0 to 17 Yrs Old  per 100,000 children   \n",
       "\n",
       "    Geo Type Name  Geo Join ID                        Geo Place Name  \\\n",
       "293         UHF42          106              High Bridge - Morrisania   \n",
       "307         UHF42          302  Central Harlem - Morningside Heights   \n",
       "308         UHF42          303                           East Harlem   \n",
       "\n",
       "    Time Period  Start_Date  Data Value  Message  \n",
       "293   2005-2007  01/01/2005       308.0      NaN  \n",
       "307   2005-2007  01/01/2005       424.7      NaN  \n",
       "308   2005-2007  01/01/2005       354.2      NaN  "
      ]
     },
     "execution_count": 28,
     "metadata": {},
     "output_type": "execute_result"
    }
   ],
   "source": [
    "AirQuality[AirQuality['Data Value']>300]"
   ]
  },
  {
   "cell_type": "code",
   "execution_count": 29,
   "id": "73c91252-1351-441d-babc-4734f7fa8988",
   "metadata": {},
   "outputs": [
    {
     "data": {
      "text/plain": [
       "Mean                                               12972\n",
       "million miles                                        632\n",
       "Estimated Annual Rate- Children 0 to 17 Yrs Old      576\n",
       "Estimated Annual Rate                                576\n",
       "Estimated Annual Rate- 18 Yrs and Older              576\n",
       "Annual Average Concentration                         310\n",
       "Number per km2                                       288\n",
       "Estimated Annual Rate - Adults 30 Yrs and Older      192\n",
       "Name: Measure, dtype: int64"
      ]
     },
     "execution_count": 29,
     "metadata": {},
     "output_type": "execute_result"
    }
   ],
   "source": [
    "AirQuality['Measure'].value_counts()"
   ]
  },
  {
   "cell_type": "code",
   "execution_count": 30,
   "id": "40b1b813-06f8-498d-aca3-cc1e47981479",
   "metadata": {},
   "outputs": [
    {
     "data": {
      "text/plain": [
       "Unique ID           int64\n",
       "Indicator ID        int64\n",
       "Name               object\n",
       "Measure            object\n",
       "Measure Info       object\n",
       "Geo Type Name      object\n",
       "Geo Join ID         int64\n",
       "Geo Place Name     object\n",
       "Time Period        object\n",
       "Start_Date         object\n",
       "Data Value        float64\n",
       "Message           float64\n",
       "dtype: object"
      ]
     },
     "execution_count": 30,
     "metadata": {},
     "output_type": "execute_result"
    }
   ],
   "source": [
    "AirQuality.dtypes"
   ]
  },
  {
   "cell_type": "code",
   "execution_count": 32,
   "id": "f09184cb-51de-4648-b461-f63f0f503e7f",
   "metadata": {},
   "outputs": [
    {
     "data": {
      "text/html": [
       "<div>\n",
       "<style scoped>\n",
       "    .dataframe tbody tr th:only-of-type {\n",
       "        vertical-align: middle;\n",
       "    }\n",
       "\n",
       "    .dataframe tbody tr th {\n",
       "        vertical-align: top;\n",
       "    }\n",
       "\n",
       "    .dataframe thead th {\n",
       "        text-align: right;\n",
       "    }\n",
       "</style>\n",
       "<table border=\"1\" class=\"dataframe\">\n",
       "  <thead>\n",
       "    <tr style=\"text-align: right;\">\n",
       "      <th></th>\n",
       "      <th>Data Value</th>\n",
       "    </tr>\n",
       "    <tr>\n",
       "      <th>Geo Place Name</th>\n",
       "      <th></th>\n",
       "    </tr>\n",
       "  </thead>\n",
       "  <tbody>\n",
       "    <tr>\n",
       "      <th>Bay Ridge and Dyker Heights (CD10)</th>\n",
       "      <td>1538.395057</td>\n",
       "    </tr>\n",
       "    <tr>\n",
       "      <th>Bayside - Little Neck</th>\n",
       "      <td>2007.878865</td>\n",
       "    </tr>\n",
       "    <tr>\n",
       "      <th>Bayside Little Neck-Fresh Meadows</th>\n",
       "      <td>1360.120000</td>\n",
       "    </tr>\n",
       "    <tr>\n",
       "      <th>Bayside and Little Neck (CD11)</th>\n",
       "      <td>1481.989291</td>\n",
       "    </tr>\n",
       "    <tr>\n",
       "      <th>Bedford Stuyvesant (CD3)</th>\n",
       "      <td>1628.493751</td>\n",
       "    </tr>\n",
       "    <tr>\n",
       "      <th>...</th>\n",
       "      <td>...</td>\n",
       "    </tr>\n",
       "    <tr>\n",
       "      <th>West Queens</th>\n",
       "      <td>4278.183790</td>\n",
       "    </tr>\n",
       "    <tr>\n",
       "      <th>Williamsbridge and Baychester (CD12)</th>\n",
       "      <td>1477.885189</td>\n",
       "    </tr>\n",
       "    <tr>\n",
       "      <th>Williamsburg - Bushwick</th>\n",
       "      <td>5976.462629</td>\n",
       "    </tr>\n",
       "    <tr>\n",
       "      <th>Willowbrook</th>\n",
       "      <td>2144.575867</td>\n",
       "    </tr>\n",
       "    <tr>\n",
       "      <th>Woodside and Sunnyside (CD2)</th>\n",
       "      <td>1752.994309</td>\n",
       "    </tr>\n",
       "  </tbody>\n",
       "</table>\n",
       "<p>114 rows × 1 columns</p>\n",
       "</div>"
      ],
      "text/plain": [
       "                                       Data Value\n",
       "Geo Place Name                                   \n",
       "Bay Ridge and Dyker Heights (CD10)    1538.395057\n",
       "Bayside - Little Neck                 2007.878865\n",
       "Bayside Little Neck-Fresh Meadows     1360.120000\n",
       "Bayside and Little Neck (CD11)        1481.989291\n",
       "Bedford Stuyvesant (CD3)              1628.493751\n",
       "...                                           ...\n",
       "West Queens                           4278.183790\n",
       "Williamsbridge and Baychester (CD12)  1477.885189\n",
       "Williamsburg - Bushwick               5976.462629\n",
       "Willowbrook                           2144.575867\n",
       "Woodside and Sunnyside (CD2)          1752.994309\n",
       "\n",
       "[114 rows x 1 columns]"
      ]
     },
     "execution_count": 32,
     "metadata": {},
     "output_type": "execute_result"
    }
   ],
   "source": [
    "AirQuality[['Geo Place Name', 'Data Value']].groupby('Geo Place Name').sum('Data Values')"
   ]
  },
  {
   "cell_type": "code",
   "execution_count": null,
   "id": "04ebd1f1-b07c-448f-aed7-26680f99b4f9",
   "metadata": {},
   "outputs": [],
   "source": []
  }
 ],
 "metadata": {
  "kernelspec": {
   "display_name": "Python 3 (ipykernel)",
   "language": "python",
   "name": "python3"
  },
  "language_info": {
   "codemirror_mode": {
    "name": "ipython",
    "version": 3
   },
   "file_extension": ".py",
   "mimetype": "text/x-python",
   "name": "python",
   "nbconvert_exporter": "python",
   "pygments_lexer": "ipython3",
   "version": "3.9.12"
  }
 },
 "nbformat": 4,
 "nbformat_minor": 5
}
